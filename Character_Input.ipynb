{
  "nbformat": 4,
  "nbformat_minor": 0,
  "metadata": {
    "colab": {
      "name": "Character Input.ipynb",
      "provenance": [],
      "collapsed_sections": [],
      "authorship_tag": "ABX9TyOOnNMpSHfwCBfafrTd5Lrx",
      "include_colab_link": true
    },
    "kernelspec": {
      "name": "python3",
      "display_name": "Python 3"
    }
  },
  "cells": [
    {
      "cell_type": "markdown",
      "metadata": {
        "id": "view-in-github",
        "colab_type": "text"
      },
      "source": [
        "<a href=\"https://colab.research.google.com/github/Basifrank/Character-Input/blob/master/Character_Input.ipynb\" target=\"_parent\"><img src=\"https://colab.research.google.com/assets/colab-badge.svg\" alt=\"Open In Colab\"/></a>"
      ]
    },
    {
      "cell_type": "markdown",
      "metadata": {
        "id": "ofxIYmrxibzE",
        "colab_type": "text"
      },
      "source": [
        "Create a program that asks the user to enter their name and their age. Print out a message addressed to them that tells them the year that they will turn 100 years old.\n",
        "\n",
        "Extras:\n",
        "\n",
        "Add on to the previous program by asking the user for another number and printing out that many copies of the previous message. (Hint: order of operations exists in Python)\n",
        "Print out that many copies of the previous message on separate lines. (Hint: the string \"\\n is the same as pressing the ENTER button)"
      ]
    },
    {
      "cell_type": "code",
      "metadata": {
        "id": "qVBp-l1Aj4fk",
        "colab_type": "code",
        "outputId": "80a164ab-af5a-48d8-f180-deef61c7fb45",
        "colab": {
          "base_uri": "https://localhost:8080/",
          "height": 34
        }
      },
      "source": [
        "import datetime\n",
        "\n",
        "today_Year = datetime.datetime.now()\n",
        "\n",
        "year = today_Year.year\n",
        "\n",
        "print(year)"
      ],
      "execution_count": 5,
      "outputs": [
        {
          "output_type": "stream",
          "text": [
            "2020\n"
          ],
          "name": "stdout"
        }
      ]
    },
    {
      "cell_type": "code",
      "metadata": {
        "id": "2uylHWiz3kKl",
        "colab_type": "code",
        "outputId": "280d81af-d0fb-45d7-8b9b-8febef82b24d",
        "colab": {
          "base_uri": "https://localhost:8080/",
          "height": 102
        }
      },
      "source": [
        "\n",
        "name = input(\"Give me your name: \" )\n",
        "\n",
        "Age = int(input(\"Please type your age: \"))\n",
        "\n",
        "print_Num = int(input(\"Please type a number: \"))\n",
        "\n",
        "print(\"Your name is \" + name)\n",
        "\n",
        "year_of_birth = int(year - Age)\n",
        "\n",
        "Age100 = year_of_birth + 100\n",
        "\n",
        "#print(Age100)\n",
        "\n",
        "print((\"you will be 100 years old in the year \" + str(Age100) ) * print_Num)\n",
        "\n"
      ],
      "execution_count": 6,
      "outputs": [
        {
          "output_type": "stream",
          "text": [
            "Give me your name: Francis\n",
            "Please type your age: 20\n",
            "Please type a number: 2\n",
            "Your name is Francis\n",
            "you will be 100 years old in the year 2100you will be 100 years old in the year 2100\n"
          ],
          "name": "stdout"
        }
      ]
    },
    {
      "cell_type": "code",
      "metadata": {
        "id": "yNA38COYYm3d",
        "colab_type": "code",
        "colab": {}
      },
      "source": [
        ""
      ],
      "execution_count": 0,
      "outputs": []
    }
  ]
}